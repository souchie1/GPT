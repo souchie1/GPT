{
  "nbformat": 4,
  "nbformat_minor": 0,
  "metadata": {
    "colab": {
      "provenance": [],
      "authorship_tag": "ABX9TyPe1amKLj5tgYaZ2Fnr7V/k",
      "include_colab_link": true
    },
    "kernelspec": {
      "name": "python3",
      "display_name": "Python 3"
    },
    "language_info": {
      "name": "python"
    }
  },
  "cells": [
    {
      "cell_type": "markdown",
      "metadata": {
        "id": "view-in-github",
        "colab_type": "text"
      },
      "source": [
        "<a href=\"https://colab.research.google.com/github/souchie1/GPT/blob/main/GPT_b%C3%A1sico.ipynb\" target=\"_parent\"><img src=\"https://colab.research.google.com/assets/colab-badge.svg\" alt=\"Open In Colab\"/></a>"
      ]
    },
    {
      "cell_type": "code",
      "execution_count": 3,
      "metadata": {
        "colab": {
          "base_uri": "https://localhost:8080/"
        },
        "id": "6TwDeOfdNbJu",
        "outputId": "9ce439e4-b9a4-4073-fa19-b59d0f8db5d7"
      },
      "outputs": [
        {
          "output_type": "stream",
          "name": "stdout",
          "text": [
            "Requirement already satisfied: openai in /usr/local/lib/python3.10/dist-packages (0.27.8)\n",
            "Requirement already satisfied: requests>=2.20 in /usr/local/lib/python3.10/dist-packages (from openai) (2.31.0)\n",
            "Requirement already satisfied: tqdm in /usr/local/lib/python3.10/dist-packages (from openai) (4.66.1)\n",
            "Requirement already satisfied: aiohttp in /usr/local/lib/python3.10/dist-packages (from openai) (3.8.5)\n",
            "Requirement already satisfied: charset-normalizer<4,>=2 in /usr/local/lib/python3.10/dist-packages (from requests>=2.20->openai) (3.2.0)\n",
            "Requirement already satisfied: idna<4,>=2.5 in /usr/local/lib/python3.10/dist-packages (from requests>=2.20->openai) (3.4)\n",
            "Requirement already satisfied: urllib3<3,>=1.21.1 in /usr/local/lib/python3.10/dist-packages (from requests>=2.20->openai) (2.0.4)\n",
            "Requirement already satisfied: certifi>=2017.4.17 in /usr/local/lib/python3.10/dist-packages (from requests>=2.20->openai) (2023.7.22)\n",
            "Requirement already satisfied: attrs>=17.3.0 in /usr/local/lib/python3.10/dist-packages (from aiohttp->openai) (23.1.0)\n",
            "Requirement already satisfied: multidict<7.0,>=4.5 in /usr/local/lib/python3.10/dist-packages (from aiohttp->openai) (6.0.4)\n",
            "Requirement already satisfied: async-timeout<5.0,>=4.0.0a3 in /usr/local/lib/python3.10/dist-packages (from aiohttp->openai) (4.0.3)\n",
            "Requirement already satisfied: yarl<2.0,>=1.0 in /usr/local/lib/python3.10/dist-packages (from aiohttp->openai) (1.9.2)\n",
            "Requirement already satisfied: frozenlist>=1.1.1 in /usr/local/lib/python3.10/dist-packages (from aiohttp->openai) (1.4.0)\n",
            "Requirement already satisfied: aiosignal>=1.1.2 in /usr/local/lib/python3.10/dist-packages (from aiohttp->openai) (1.3.1)\n"
          ]
        }
      ],
      "source": [
        "# INSTALANDO A BIBLIOTECA OPENAI\n",
        "! pip install openai\n"
      ]
    },
    {
      "cell_type": "markdown",
      "source": [
        "# BACK END"
      ],
      "metadata": {
        "id": "kZbCu8CZPHCR"
      }
    },
    {
      "cell_type": "code",
      "source": [
        "# importando as bibliotecas\n",
        "from flask import Flask, request, jsonify\n",
        "import openai\n"
      ],
      "metadata": {
        "id": "FJb7a7vVNthJ"
      },
      "execution_count": 2,
      "outputs": []
    },
    {
      "cell_type": "code",
      "source": [
        "# configurando o flask\n",
        "app = Flask(__name__)\n"
      ],
      "metadata": {
        "id": "cxTGQ1D4N56u"
      },
      "execution_count": null,
      "outputs": []
    },
    {
      "cell_type": "code",
      "source": [
        "# configurando a chave da API\n",
        "openai.api_key = \"SUA_CHAVE_DE_API\"\n"
      ],
      "metadata": {
        "id": "NYq4dlynOFbN"
      },
      "execution_count": null,
      "outputs": []
    },
    {
      "cell_type": "code",
      "source": [
        "# criando a rotina\n",
        "@app.route('/get_response', methods=['POST'])\n",
        "def get_response():\n",
        "    data = request.get_json()\n",
        "    user_message = data['message']\n",
        "    response = openai.Completion.create(\n",
        "        engine=\"text-davinci-003\",\n",
        "        prompt=user_message,\n",
        "        max_tokens=50\n",
        "    )\n",
        "    bot_response = response.choices[0].text.strip()\n",
        "    return jsonify({'response': bot_response})\n"
      ],
      "metadata": {
        "id": "G9oYT5kPOLRv"
      },
      "execution_count": null,
      "outputs": []
    },
    {
      "cell_type": "code",
      "source": [
        "# rodando o aplicativo\n",
        "if __name__ == '__main__':\n",
        "    app.run(debug=True)\n"
      ],
      "metadata": {
        "id": "NGApSef0OQBV"
      },
      "execution_count": null,
      "outputs": []
    },
    {
      "cell_type": "markdown",
      "source": [
        "## FRONT END"
      ],
      "metadata": {
        "id": "FMVtQvZgPA8l"
      }
    },
    {
      "cell_type": "markdown",
      "source": [],
      "metadata": {
        "id": "e_Mc8VDKO6A7"
      }
    },
    {
      "cell_type": "code",
      "source": [
        "# criar arquivo html\n",
        "# criando a estrutura html básica\n",
        "<!DOCTYPE html>\n",
        "<html>\n",
        "<head>\n",
        "    <title>ChatGPT Clone</title>\n",
        "</head>\n",
        "<body>\n",
        "    <h1>ChatGPT Clone</h1>\n",
        "    <div id=\"chat-log\"></div>\n",
        "    <input type=\"text\" id=\"user-input\" placeholder=\"Digite sua mensagem...\">\n",
        "    <button id=\"send-button\">Enviar</button>\n",
        "\n",
        "    <script src=\"https://code.jquery.com/jquery-3.6.0.min.js\"></script>\n",
        "    <script>\n",
        "        $(document).ready(function () {\n",
        "            $('#send-button').click(function () {\n",
        "                sendMessage();\n",
        "            });\n",
        "        });\n",
        "\n",
        "        function sendMessage() {\n",
        "            var userInput = $('#user-input').val();\n",
        "            $('#chat-log').append('<p><strong>Você:</strong> ' + userInput + '</p>');\n",
        "\n",
        "            $.ajax({\n",
        "                url: '/get_response',\n",
        "                type: 'POST',\n",
        "                dataType: 'json',\n",
        "                contentType: 'application/json',\n",
        "                data: JSON.stringify({ 'message': userInput }),\n",
        "                success: function (data) {\n",
        "                    $('#chat-log').append('<p><strong>Bot:</strong> ' + data.response + '</p>');\n",
        "                }\n",
        "            });\n",
        "\n",
        "            $('#user-input').val('');\n",
        "        }\n",
        "    </script>\n",
        "</body>\n",
        "</html>\n"
      ],
      "metadata": {
        "id": "c5B4LElOOUiw"
      },
      "execution_count": null,
      "outputs": []
    },
    {
      "cell_type": "code",
      "source": [
        "# executando o projeto\n",
        "\n",
        "python app.py\n"
      ],
      "metadata": {
        "id": "3iSCDth_OmVl"
      },
      "execution_count": null,
      "outputs": []
    },
    {
      "cell_type": "code",
      "source": [
        "# Acesse o Frontend: Abra o navegador e acesse http://127.0.0.1:5000/para ver e interagir com o frontend."
      ],
      "metadata": {
        "id": "XIaJXaEUOrij"
      },
      "execution_count": null,
      "outputs": []
    }
  ]
}